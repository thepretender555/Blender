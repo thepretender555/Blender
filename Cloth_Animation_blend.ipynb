{
  "nbformat": 4,
  "nbformat_minor": 0,
  "metadata": {
    "colab": {
      "name": "Cloth Animation.blend.ipynb",
      "provenance": [],
      "collapsed_sections": [],
      "history_visible": true,
      "include_colab_link": true
    },
    "kernelspec": {
      "name": "python3",
      "display_name": "Python 3"
    },
    "language_info": {
      "name": "python"
    },
    "accelerator": "GPU"
  },
  "cells": [
    {
      "cell_type": "markdown",
      "metadata": {
        "id": "view-in-github",
        "colab_type": "text"
      },
      "source": [
        "<a href=\"https://colab.research.google.com/github/thepretender555/Blender/blob/main/Cloth_Animation_blend.ipynb\" target=\"_parent\"><img src=\"https://colab.research.google.com/assets/colab-badge.svg\" alt=\"Open In Colab\"/></a>"
      ]
    },
    {
      "cell_type": "code",
      "source": [
        "from google.colab import drive\n",
        "drive.mount('/gdrive', force_remount=True)"
      ],
      "metadata": {
        "id": "ygEv0ATR5bFW",
        "colab": {
          "base_uri": "https://localhost:8080/"
        },
        "outputId": "400ccf66-9ec0-4d69-abfd-e43f6cea2d1a"
      },
      "execution_count": 1,
      "outputs": [
        {
          "output_type": "stream",
          "name": "stdout",
          "text": [
            "Mounted at /gdrive\n"
          ]
        }
      ]
    },
    {
      "cell_type": "code",
      "source": [
        "blenderVersion = '2.90.1'\n",
        "isBlenderUrl = False\n",
        "isFileUrl = False\n",
        "renderEngine = 'CYCLES'\n",
        "renderer = 'CUDA'\n",
        "startFrame = 1\n",
        "endFrame = 180\n",
        "audio = False\n",
        "fileFormat = 'PNG'\n",
        "logEnable = True\n",
        "animation = True\n",
        "token = 'eyJleHAiOiIyMDIyLTA4LTIxIDExOjI3OjU1In0='\n",
        "outputPath = '/gdrive/My Drive/Blender render/'\n",
        "blenderFilePath = '/gdrive/My Drive/Blender render/Cloth Animation.blend'\n"
      ],
      "metadata": {
        "id": "configData"
      },
      "execution_count": 2,
      "outputs": []
    },
    {
      "cell_type": "code",
      "source": [
        "import os\n",
        "\n",
        "os.system('pip install git+https://github.com/metafylabs/metablenderrenderer.git#egg=metalabblender')"
      ],
      "metadata": {
        "colab": {
          "base_uri": "https://localhost:8080/"
        },
        "id": "ZC3FYFsXkbBf",
        "outputId": "55a22904-d091-4614-9bbe-ec882ea87c4e"
      },
      "execution_count": 3,
      "outputs": [
        {
          "output_type": "execute_result",
          "data": {
            "text/plain": [
              "0"
            ]
          },
          "metadata": {},
          "execution_count": 3
        }
      ]
    },
    {
      "cell_type": "code",
      "source": [
        "from metalabblender import blender\n",
        "\n",
        "blenderLib = blender.Blender(blenderFilePath, isFileUrl, outputPath, blenderVersion, isBlenderUrl, fileFormat, renderEngine, startFrame, endFrame, renderer, animation, audio, logEnable, token)\n",
        "blenderLib.setup()\n",
        "blenderLib.render()"
      ],
      "metadata": {
        "id": "62icG5NgXPrV",
        "colab": {
          "base_uri": "https://localhost:8080/"
        },
        "outputId": "b2864699-acce-41bc-da2c-d9144218455f"
      },
      "execution_count": null,
      "outputs": [
        {
          "output_type": "stream",
          "name": "stdout",
          "text": [
            "Current GPU: Tesla T4\n",
            "\n",
            "Installing blender = 2.90.1\n",
            "Blender installed...2.90.1\n",
            "Setup completed\n",
            "starting to process blender...\n",
            "./blender-2.90.1-linux64/blender -b /gdrive/My Drive/Blender render/Cloth Animation.blend -noaudio -E CYCLES --log-level 1 -o /gdrive/My Drive/Blender render/ -s 1 -e 180 -F PNG -a -- --cycles-device CUDA\n",
            "b'Blender 2.90.1 (hash 3e85bb34d0d7 built 2020-09-23 08:34:47)\\n'\n",
            "b'found bundled python: /content/blender-2.90.1-linux64/2.90/python\\n'\n",
            "b'Read blend: /gdrive/My Drive/Blender render/Cloth Animation.blend\\n'\n",
            "b'Fra:1 Mem:143.41M (Peak 143.41M) | Time:00:00.03 | Mem:0.00M, Peak:0.00M | Scene, View Layer | Synchronizing object | Cube\\n'\n",
            "b'Fra:1 Mem:143.42M (Peak 143.42M) | Time:00:00.03 | Mem:0.00M, Peak:0.00M | Scene, View Layer | Synchronizing object | Outer cube\\n'\n",
            "b'Fra:1 Mem:143.58M (Peak 144.02M) | Time:00:00.03 | Mem:0.00M, Peak:0.00M | Scene, View Layer | Synchronizing object | Plane\\n'\n",
            "b'Fra:1 Mem:143.58M (Peak 144.02M) | Time:00:00.03 | Mem:0.00M, Peak:0.00M | Scene, View Layer | Synchronizing object | Plane.001\\n'\n",
            "b'Fra:1 Mem:143.58M (Peak 144.02M) | Time:00:00.03 | Mem:0.00M, Peak:0.00M | Scene, View Layer | Synchronizing object | Cube.001\\n'\n",
            "b'Fra:1 Mem:143.58M (Peak 144.02M) | Time:00:00.03 | Mem:0.00M, Peak:0.00M | Scene, View Layer | Initializing\\n'\n",
            "b'Fra:1 Mem:135.77M (Peak 144.19M) | Time:00:00.07 | Mem:0.00M, Peak:0.00M | Scene, View Layer | Waiting for render to start\\n'\n",
            "b'Fra:1 Mem:135.81M (Peak 144.19M) | Time:00:00.07 | Mem:0.00M, Peak:0.00M | Scene, View Layer | Loading render kernels (may take a few minutes the first time)\\n'\n",
            "b'Fra:1 Mem:135.81M (Peak 144.19M) | Time:00:00.07 | Mem:0.00M, Peak:0.00M | Scene, View Layer | Updating Scene\\n'\n",
            "b'Fra:1 Mem:135.81M (Peak 144.19M) | Time:00:00.07 | Mem:0.00M, Peak:0.00M | Scene, View Layer | Updating Shaders\\n'\n",
            "b'Fra:1 Mem:136.31M (Peak 144.19M) | Time:00:00.25 | Mem:0.00M, Peak:0.00M | Scene, View Layer | Updating Background\\n'\n",
            "b'Fra:1 Mem:136.31M (Peak 144.19M) | Time:00:00.25 | Mem:0.00M, Peak:0.00M | Scene, View Layer | Updating Camera\\n'\n",
            "b'Fra:1 Mem:136.32M (Peak 144.19M) | Time:00:00.25 | Mem:0.00M, Peak:0.00M | Scene, View Layer | Updating Meshes Flags\\n'\n",
            "b'Fra:1 Mem:136.32M (Peak 144.19M) | Time:00:00.25 | Mem:0.00M, Peak:0.00M | Scene, View Layer | Updating Objects\\n'\n",
            "b'Fra:1 Mem:136.32M (Peak 144.19M) | Time:00:00.25 | Mem:0.00M, Peak:0.00M | Scene, View Layer | Updating Objects | Copying Transformations to device\\n'\n",
            "b'Fra:1 Mem:136.32M (Peak 144.19M) | Time:00:00.25 | Mem:0.00M, Peak:0.00M | Scene, View Layer | Updating Objects | Applying Static Transformations\\n'\n",
            "b'Fra:1 Mem:136.32M (Peak 144.19M) | Time:00:00.25 | Mem:0.00M, Peak:0.00M | Scene, View Layer | Updating Particle Systems\\n'\n",
            "b'Fra:1 Mem:136.32M (Peak 144.19M) | Time:00:00.25 | Mem:0.00M, Peak:0.00M | Scene, View Layer | Updating Particle Systems | Copying Particles to device\\n'\n",
            "b'Fra:1 Mem:136.32M (Peak 144.19M) | Time:00:00.25 | Mem:0.00M, Peak:0.00M | Scene, View Layer | Updating Meshes\\n'\n",
            "b'Fra:1 Mem:136.34M (Peak 144.19M) | Time:00:00.25 | Mem:0.00M, Peak:0.00M | Scene, View Layer | Updating Mesh | Computing attributes\\n'\n",
            "b'Fra:1 Mem:136.38M (Peak 144.19M) | Time:00:00.25 | Mem:0.00M, Peak:0.00M | Scene, View Layer | Updating Mesh | Copying Attributes to device\\n'\n",
            "b'Fra:1 Mem:136.38M (Peak 144.19M) | Time:00:00.25 | Mem:0.04M, Peak:0.04M | Scene, View Layer | Updating Scene BVH | Building\\n'\n",
            "b'Fra:1 Mem:136.38M (Peak 144.19M) | Time:00:00.25 | Mem:0.04M, Peak:0.04M | Scene, View Layer | Updating Scene BVH | Building BVH\\n'\n",
            "b'Fra:1 Mem:136.40M (Peak 144.19M) | Time:00:00.25 | Mem:0.15M, Peak:0.15M | Scene, View Layer | Updating Scene BVH | Building BVH 0%\\n'\n",
            "b'Fra:1 Mem:136.48M (Peak 144.19M) | Time:00:00.25 | Mem:0.14M, Peak:0.20M | Scene, View Layer | Updating Scene BVH | Packing geometry\\n'\n",
            "b'Fra:1 Mem:136.47M (Peak 144.19M) | Time:00:00.25 | Mem:0.14M, Peak:0.20M | Scene, View Layer | Updating Scene BVH | Copying BVH to device\\n'\n",
            "b'Fra:1 Mem:136.48M (Peak 144.19M) | Time:00:00.25 | Mem:0.23M, Peak:0.23M | Scene, View Layer | Updating Mesh | Computing normals\\n'\n",
            "b'Fra:1 Mem:136.57M (Peak 144.19M) | Time:00:00.25 | Mem:0.23M, Peak:0.23M | Scene, View Layer | Updating Mesh | Copying Mesh to device\\n'\n",
            "b'Fra:1 Mem:136.56M (Peak 144.19M) | Time:00:00.25 | Mem:0.32M, Peak:0.32M | Scene, View Layer | Updating Objects Flags\\n'\n",
            "b'Fra:1 Mem:136.56M (Peak 144.19M) | Time:00:00.25 | Mem:0.32M, Peak:0.32M | Scene, View Layer | Updating Images\\n'\n",
            "b'Fra:1 Mem:136.56M (Peak 144.19M) | Time:00:00.25 | Mem:0.32M, Peak:0.32M | Scene, View Layer | Updating Camera Volume\\n'\n",
            "b'Fra:1 Mem:136.56M (Peak 144.19M) | Time:00:00.25 | Mem:0.32M, Peak:0.32M | Scene, View Layer | Updating Lookup Tables\\n'\n",
            "b'Fra:1 Mem:136.56M (Peak 144.19M) | Time:00:00.25 | Mem:0.57M, Peak:0.57M | Scene, View Layer | Updating Lights\\n'\n",
            "b'Fra:1 Mem:136.56M (Peak 144.19M) | Time:00:00.25 | Mem:0.57M, Peak:0.57M | Scene, View Layer | Updating Lights | Computing distribution\\n'\n",
            "b'Fra:1 Mem:136.56M (Peak 144.19M) | Time:00:00.25 | Mem:0.57M, Peak:0.57M | Scene, View Layer | Updating Integrator\\n'\n",
            "b'Fra:1 Mem:138.06M (Peak 144.19M) | Time:00:00.29 | Mem:2.07M, Peak:2.07M | Scene, View Layer | Updating Film\\n'\n",
            "b'Fra:1 Mem:138.06M (Peak 144.19M) | Time:00:00.29 | Mem:1.82M, Peak:2.07M | Scene, View Layer | Updating Lookup Tables\\n'\n",
            "b'Fra:1 Mem:138.06M (Peak 144.19M) | Time:00:00.29 | Mem:2.08M, Peak:2.08M | Scene, View Layer | Updating Baking\\n'\n",
            "b'Fra:1 Mem:138.06M (Peak 144.19M) | Time:00:00.29 | Mem:2.08M, Peak:2.08M | Scene, View Layer | Updating Device | Writing constant memory\\n'\n",
            "b'Fra:1 Mem:138.06M (Peak 144.19M) | Time:00:00.29 | Mem:2.08M, Peak:2.08M | Scene, View Layer | Updating Device | Writing constant memory | Compiling render kernels\\n'\n",
            "b'Fra:1 Mem:138.06M (Peak 144.19M) | Time:00:00.29 | Mem:2.08M, Peak:2.08M | Scene, View Layer | Updating Device | Writing constant memory\\n'\n",
            "b'Fra:1 Mem:138.07M (Peak 144.19M) | Time:00:00.29 | Mem:2.08M, Peak:2.08M | Scene, View Layer | Rendered 0/900 Tiles, Denoised 0 tiles\\n'\n",
            "b'Fra:1 Mem:139.20M (Peak 144.19M) | Time:00:08.83 | Remaining:01:04:23.96 | Mem:3.21M, Peak:3.21M | Scene, View Layer | Rendered 1/900 Tiles, Denoised 0 tiles\\n'\n",
            "b'Fra:1 Mem:139.76M (Peak 144.19M) | Time:00:08.92 | Remaining:01:03:53.84 | Mem:3.77M, Peak:3.77M | Scene, View Layer | Rendered 2/900 Tiles, Denoised 0 tiles\\n'\n",
            "b'Fra:1 Mem:140.32M (Peak 144.19M) | Time:00:17.37 | Remaining:01:04:29.80 | Mem:4.33M, Peak:4.33M | Scene, View Layer | Rendered 3/900 Tiles, Denoised 0 tiles\\n'\n",
            "b'Fra:1 Mem:140.88M (Peak 144.19M) | Time:00:17.66 | Remaining:01:03:54.89 | Mem:4.90M, Peak:4.90M | Scene, View Layer | Rendered 4/900 Tiles, Denoised 0 tiles\\n'\n",
            "b'Fra:1 Mem:141.45M (Peak 144.19M) | Time:00:26.11 | Remaining:01:04:40.56 | Mem:5.46M, Peak:5.46M | Scene, View Layer | Rendered 5/900 Tiles, Denoised 0 tiles\\n'\n",
            "b'Fra:1 Mem:142.01M (Peak 144.19M) | Time:00:26.49 | Remaining:01:04:12.36 | Mem:6.02M, Peak:6.02M | Scene, View Layer | Rendered 6/900 Tiles, Denoised 0 tiles\\n'\n",
            "b'Fra:1 Mem:142.57M (Peak 144.19M) | Time:00:35.10 | Remaining:01:04:57.66 | Mem:6.58M, Peak:6.58M | Scene, View Layer | Rendered 7/900 Tiles, Denoised 0 tiles\\n'\n",
            "b'Fra:1 Mem:143.13M (Peak 144.19M) | Time:00:35.49 | Remaining:01:04:37.83 | Mem:7.15M, Peak:7.15M | Scene, View Layer | Rendered 8/900 Tiles, Denoised 0 tiles\\n'\n",
            "b'Fra:1 Mem:143.70M (Peak 144.19M) | Time:00:44.08 | Remaining:01:05:04.03 | Mem:7.71M, Peak:7.71M | Scene, View Layer | Rendered 9/900 Tiles, Denoised 0 tiles\\n'\n",
            "b'Fra:1 Mem:144.26M (Peak 144.46M) | Time:00:44.49 | Remaining:01:04:50.16 | Mem:8.27M, Peak:8.27M | Scene, View Layer | Rendered 10/900 Tiles, Denoised 0 tiles\\n'\n",
            "b'Fra:1 Mem:144.82M (Peak 145.03M) | Time:00:53.21 | Remaining:01:05:15.54 | Mem:8.83M, Peak:8.83M | Scene, View Layer | Rendered 11/900 Tiles, Denoised 0 tiles\\n'\n",
            "b'Fra:1 Mem:145.38M (Peak 145.59M) | Time:00:53.61 | Remaining:01:05:04.47 | Mem:9.40M, Peak:9.40M | Scene, View Layer | Rendered 12/900 Tiles, Denoised 0 tiles\\n'\n",
            "b'Fra:1 Mem:145.95M (Peak 146.15M) | Time:01:02.53 | Remaining:01:05:28.04 | Mem:9.96M, Peak:9.96M | Scene, View Layer | Rendered 13/900 Tiles, Denoised 0 tiles\\n'\n",
            "b'Fra:1 Mem:146.51M (Peak 146.71M) | Time:01:02.82 | Remaining:01:05:20.29 | Mem:10.52M, Peak:10.52M | Scene, View Layer | Rendered 14/900 Tiles, Denoised 0 tiles\\n'\n",
            "b'Fra:1 Mem:147.07M (Peak 147.28M) | Time:01:11.88 | Remaining:01:05:38.91 | Mem:11.08M, Peak:11.08M | Scene, View Layer | Rendered 15/900 Tiles, Denoised 0 tiles\\n'\n",
            "b'Fra:1 Mem:147.63M (Peak 147.84M) | Time:01:12.10 | Remaining:01:05:33.53 | Mem:11.65M, Peak:11.65M | Scene, View Layer | Rendered 16/900 Tiles, Denoised 0 tiles\\n'\n",
            "b'Fra:1 Mem:148.20M (Peak 148.40M) | Time:01:22.43 | Remaining:01:07:03.07 | Mem:12.21M, Peak:12.21M | Scene, View Layer | Rendered 17/900 Tiles, Denoised 0 tiles\\n'\n",
            "b'Fra:1 Mem:148.76M (Peak 148.96M) | Time:01:23.68 | Remaining:01:07:22.43 | Mem:12.77M, Peak:12.77M | Scene, View Layer | Rendered 18/900 Tiles, Denoised 0 tiles\\n'\n",
            "b'Fra:1 Mem:149.32M (Peak 149.53M) | Time:01:33.50 | Remaining:01:08:20.50 | Mem:13.33M, Peak:13.33M | Scene, View Layer | Rendered 19/900 Tiles, Denoised 0 tiles\\n'\n",
            "b'Fra:1 Mem:149.88M (Peak 150.09M) | Time:01:34.31 | Remaining:01:08:09.93 | Mem:13.90M, Peak:13.90M | Scene, View Layer | Rendered 20/900 Tiles, Denoised 0 tiles\\n'\n",
            "b'Fra:1 Mem:150.45M (Peak 150.65M) | Time:01:42.71 | Remaining:01:08:08.10 | Mem:14.46M, Peak:14.46M | Scene, View Layer | Rendered 21/900 Tiles, Denoised 0 tiles\\n'\n",
            "b'Fra:1 Mem:151.01M (Peak 151.21M) | Time:01:43.62 | Remaining:01:07:56.73 | Mem:15.02M, Peak:15.02M | Scene, View Layer | Rendered 22/900 Tiles, Denoised 0 tiles\\n'\n",
            "b'Fra:1 Mem:151.57M (Peak 151.78M) | Time:01:52.01 | Remaining:01:07:51.17 | Mem:15.58M, Peak:15.58M | Scene, View Layer | Rendered 23/900 Tiles, Denoised 0 tiles\\n'\n",
            "b'Fra:1 Mem:152.14M (Peak 152.34M) | Time:01:53.01 | Remaining:01:07:49.20 | Mem:16.15M, Peak:16.15M | Scene, View Layer | Rendered 24/900 Tiles, Denoised 0 tiles\\n'\n",
            "b'Fra:1 Mem:152.70M (Peak 152.90M) | Time:02:01.60 | Remaining:01:07:51.20 | Mem:16.71M, Peak:16.71M | Scene, View Layer | Rendered 25/900 Tiles, Denoised 0 tiles\\n'\n",
            "b'Fra:1 Mem:153.26M (Peak 153.46M) | Time:02:02.34 | Remaining:01:07:40.62 | Mem:17.27M, Peak:17.27M | Scene, View Layer | Rendered 26/900 Tiles, Denoised 0 tiles\\n'\n",
            "b'Fra:1 Mem:153.82M (Peak 154.03M) | Time:02:10.72 | Remaining:01:07:35.12 | Mem:17.83M, Peak:17.83M | Scene, View Layer | Rendered 27/900 Tiles, Denoised 0 tiles\\n'\n",
            "b'Fra:1 Mem:154.39M (Peak 154.59M) | Time:02:11.45 | Remaining:01:07:23.68 | Mem:18.40M, Peak:18.40M | Scene, View Layer | Rendered 28/900 Tiles, Denoised 0 tiles\\n'\n",
            "b'Fra:1 Mem:154.90M (Peak 155.10M) | Time:02:19.51 | Remaining:01:07:00.19 | Mem:18.91M, Peak:18.91M | Scene, View Layer | Rendered 29/900 Tiles, Denoised 0 tiles\\n'\n",
            "b'Fra:1 Mem:155.46M (Peak 155.66M) | Time:02:19.52 | Remaining:01:06:59.98 | Mem:19.47M, Peak:19.47M | Scene, View Layer | Rendered 30/900 Tiles, Denoised 0 tiles\\n'\n",
            "b'Fra:1 Mem:156.02M (Peak 156.22M) | Time:02:28.46 | Remaining:01:06:46.29 | Mem:20.03M, Peak:20.03M | Scene, View Layer | Rendered 31/900 Tiles, Denoised 0 tiles\\n'\n",
            "b'Fra:1 Mem:156.58M (Peak 156.79M) | Time:02:28.61 | Remaining:01:06:42.85 | Mem:20.59M, Peak:20.59M | Scene, View Layer | Rendered 32/900 Tiles, Denoised 0 tiles\\n'\n",
            "b'Fra:1 Mem:160.79M (Peak 161.00M) | Time:02:28.95 | Remaining:01:06:47.34 | Mem:24.80M, Peak:24.80M | Scene, View Layer | Rendered 32/900 Tiles, Denoised 1 tiles\\n'\n",
            "b'Fra:1 Mem:161.36M (Peak 161.56M) | Time:02:37.46 | Remaining:01:06:41.77 | Mem:25.37M, Peak:25.37M | Scene, View Layer | Rendered 33/900 Tiles, Denoised 1 tiles\\n'\n",
            "b'Fra:1 Mem:165.61M (Peak 165.81M) | Time:02:37.80 | Remaining:01:06:42.46 | Mem:29.62M, Peak:29.62M | Scene, View Layer | Rendered 33/900 Tiles, Denoised 2 tiles\\n'\n",
            "b'Fra:1 Mem:166.17M (Peak 166.37M) | Time:02:38.16 | Remaining:01:06:37.43 | Mem:30.18M, Peak:30.18M | Scene, View Layer | Rendered 34/900 Tiles, Denoised 2 tiles\\n'\n",
            "b'Fra:1 Mem:166.21M (Peak 166.41M) | Time:02:38.51 | Remaining:01:06:41.76 | Mem:30.22M, Peak:30.35M | Scene, View Layer | Rendered 34/900 Tiles, Denoised 3 tiles\\n'\n",
            "b'Fra:1 Mem:166.77M (Peak 166.97M) | Time:02:46.93 | Remaining:01:06:38.31 | Mem:30.78M, Peak:30.78M | Scene, View Layer | Rendered 35/900 Tiles, Denoised 3 tiles\\n'\n",
            "b'Fra:1 Mem:166.77M (Peak 166.97M) | Time:02:47.26 | Remaining:01:06:39.91 | Mem:30.78M, Peak:30.91M | Scene, View Layer | Rendered 35/900 Tiles, Denoised 4 tiles\\n'\n",
            "b'Fra:1 Mem:167.33M (Peak 167.54M) | Time:02:47.84 | Remaining:01:06:34.32 | Mem:31.34M, Peak:31.34M | Scene, View Layer | Rendered 36/900 Tiles, Denoised 4 tiles\\n'\n",
            "b'Fra:1 Mem:167.33M (Peak 167.54M) | Time:02:48.17 | Remaining:01:06:38.04 | Mem:31.34M, Peak:31.47M | Scene, View Layer | Rendered 36/900 Tiles, Denoised 5 tiles\\n'\n",
            "b'Fra:1 Mem:167.89M (Peak 168.10M) | Time:02:56.46 | Remaining:01:06:34.90 | Mem:31.90M, Peak:31.90M | Scene, View Layer | Rendered 37/900 Tiles, Denoised 5 tiles\\n'\n",
            "b'Fra:1 Mem:167.89M (Peak 168.10M) | Time:02:56.80 | Remaining:01:06:36.70 | Mem:31.90M, Peak:32.04M | Scene, View Layer | Rendered 37/900 Tiles, Denoised 6 tiles\\n'\n",
            "b'Fra:1 Mem:168.46M (Peak 168.66M) | Time:02:57.47 | Remaining:01:06:30.66 | Mem:32.47M, Peak:32.47M | Scene, View Layer | Rendered 38/900 Tiles, Denoised 6 tiles\\n'\n",
            "b'Fra:1 Mem:168.46M (Peak 168.66M) | Time:02:57.82 | Remaining:01:06:34.50 | Mem:32.47M, Peak:32.60M | Scene, View Layer | Rendered 38/900 Tiles, Denoised 7 tiles\\n'\n",
            "b'Fra:1 Mem:169.02M (Peak 169.22M) | Time:03:06.10 | Remaining:01:06:33.08 | Mem:33.03M, Peak:33.03M | Scene, View Layer | Rendered 39/900 Tiles, Denoised 7 tiles\\n'\n",
            "b'Fra:1 Mem:169.02M (Peak 169.22M) | Time:03:06.45 | Remaining:01:06:34.86 | Mem:33.03M, Peak:33.16M | Scene, View Layer | Rendered 39/900 Tiles, Denoised 8 tiles\\n'\n",
            "b'Fra:1 Mem:169.58M (Peak 169.79M) | Time:03:07.19 | Remaining:01:06:28.53 | Mem:33.59M, Peak:33.59M | Scene, View Layer | Rendered 40/900 Tiles, Denoised 8 tiles\\n'\n",
            "b'Fra:1 Mem:169.58M (Peak 169.79M) | Time:03:07.55 | Remaining:01:06:32.17 | Mem:33.59M, Peak:33.72M | Scene, View Layer | Rendered 40/900 Tiles, Denoised 9 tiles\\n'\n",
            "b'Fra:1 Mem:170.14M (Peak 170.35M) | Time:03:16.03 | Remaining:01:06:34.62 | Mem:34.15M, Peak:34.15M | Scene, View Layer | Rendered 41/900 Tiles, Denoised 9 tiles\\n'\n",
            "b'Fra:1 Mem:170.14M (Peak 170.35M) | Time:03:16.39 | Remaining:01:06:37.13 | Mem:34.15M, Peak:34.29M | Scene, View Layer | Rendered 41/900 Tiles, Denoised 10 tiles\\n'\n",
            "b'Fra:1 Mem:170.71M (Peak 170.91M) | Time:03:17.20 | Remaining:01:06:31.71 | Mem:34.72M, Peak:34.72M | Scene, View Layer | Rendered 42/900 Tiles, Denoised 10 tiles\\n'\n",
            "b'Fra:1 Mem:170.71M (Peak 170.91M) | Time:03:17.57 | Remaining:01:06:35.56 | Mem:34.72M, Peak:34.85M | Scene, View Layer | Rendered 42/900 Tiles, Denoised 11 tiles\\n'\n",
            "b'Fra:1 Mem:171.27M (Peak 171.47M) | Time:03:29.12 | Remaining:01:07:40.50 | Mem:35.28M, Peak:35.28M | Scene, View Layer | Rendered 43/900 Tiles, Denoised 11 tiles\\n'\n",
            "b'Fra:1 Mem:171.27M (Peak 171.47M) | Time:03:29.48 | Remaining:01:07:42.78 | Mem:35.28M, Peak:35.41M | Scene, View Layer | Rendered 43/900 Tiles, Denoised 12 tiles\\n'\n",
            "b'Fra:1 Mem:171.83M (Peak 172.04M) | Time:03:30.54 | Remaining:01:07:36.20 | Mem:35.84M, Peak:35.84M | Scene, View Layer | Rendered 44/900 Tiles, Denoised 12 tiles\\n'\n",
            "b'Fra:1 Mem:171.83M (Peak 172.04M) | Time:03:30.92 | Remaining:01:07:39.71 | Mem:35.84M, Peak:35.97M | Scene, View Layer | Rendered 44/900 Tiles, Denoised 13 tiles\\n'\n",
            "b'Fra:1 Mem:172.39M (Peak 172.60M) | Time:03:39.03 | Remaining:01:07:36.53 | Mem:36.40M, Peak:36.40M | Scene, View Layer | Rendered 45/900 Tiles, Denoised 13 tiles\\n'\n",
            "b'Fra:1 Mem:172.39M (Peak 172.60M) | Time:03:39.38 | Remaining:01:07:38.42 | Mem:36.40M, Peak:36.54M | Scene, View Layer | Rendered 45/900 Tiles, Denoised 14 tiles\\n'\n",
            "b'Fra:1 Mem:172.96M (Peak 173.16M) | Time:03:40.38 | Remaining:01:07:32.16 | Mem:36.97M, Peak:36.97M | Scene, View Layer | Rendered 46/900 Tiles, Denoised 14 tiles\\n'\n",
            "b'Fra:1 Mem:172.96M (Peak 173.16M) | Time:03:40.76 | Remaining:01:07:35.49 | Mem:36.97M, Peak:37.10M | Scene, View Layer | Rendered 46/900 Tiles, Denoised 15 tiles\\n'\n",
            "b'Fra:1 Mem:173.52M (Peak 173.72M) | Time:03:48.93 | Remaining:01:07:33.38 | Mem:37.53M, Peak:37.53M | Scene, View Layer | Rendered 47/900 Tiles, Denoised 15 tiles\\n'\n",
            "b'Fra:1 Mem:173.52M (Peak 173.72M) | Time:03:49.30 | Remaining:01:07:35.56 | Mem:37.53M, Peak:37.66M | Scene, View Layer | Rendered 47/900 Tiles, Denoised 16 tiles\\n'\n",
            "b'Fra:1 Mem:174.08M (Peak 174.29M) | Time:03:50.46 | Remaining:01:07:29.86 | Mem:38.09M, Peak:38.09M | Scene, View Layer | Rendered 48/900 Tiles, Denoised 16 tiles\\n'\n",
            "b'Fra:1 Mem:174.08M (Peak 174.29M) | Time:03:50.82 | Remaining:01:07:32.79 | Mem:38.09M, Peak:38.22M | Scene, View Layer | Rendered 48/900 Tiles, Denoised 17 tiles\\n'\n",
            "b'Fra:1 Mem:174.64M (Peak 174.85M) | Time:03:58.79 | Remaining:01:07:29.43 | Mem:38.65M, Peak:38.65M | Scene, View Layer | Rendered 49/900 Tiles, Denoised 17 tiles\\n'\n",
            "b'Fra:1 Mem:174.64M (Peak 174.85M) | Time:03:59.14 | Remaining:01:07:31.32 | Mem:38.65M, Peak:38.79M | Scene, View Layer | Rendered 49/900 Tiles, Denoised 18 tiles\\n'\n",
            "b'Fra:1 Mem:175.21M (Peak 175.41M) | Time:04:00.32 | Remaining:01:07:24.49 | Mem:39.22M, Peak:39.22M | Scene, View Layer | Rendered 50/900 Tiles, Denoised 18 tiles\\n'\n",
            "b'Fra:1 Mem:175.21M (Peak 175.41M) | Time:04:00.69 | Remaining:01:07:27.48 | Mem:39.22M, Peak:39.35M | Scene, View Layer | Rendered 50/900 Tiles, Denoised 19 tiles\\n'\n",
            "b'Fra:1 Mem:175.77M (Peak 175.97M) | Time:04:08.76 | Remaining:01:07:25.20 | Mem:39.78M, Peak:39.78M | Scene, View Layer | Rendered 51/900 Tiles, Denoised 19 tiles\\n'\n",
            "b'Fra:1 Mem:175.77M (Peak 175.97M) | Time:04:09.12 | Remaining:01:07:27.12 | Mem:39.78M, Peak:39.91M | Scene, View Layer | Rendered 51/900 Tiles, Denoised 20 tiles\\n'\n",
            "b'Fra:1 Mem:176.33M (Peak 176.54M) | Time:04:10.31 | Remaining:01:07:20.91 | Mem:40.34M, Peak:40.34M | Scene, View Layer | Rendered 52/900 Tiles, Denoised 20 tiles\\n'\n",
            "b'Fra:1 Mem:176.33M (Peak 176.54M) | Time:04:10.66 | Remaining:01:07:23.48 | Mem:40.34M, Peak:40.47M | Scene, View Layer | Rendered 52/900 Tiles, Denoised 21 tiles\\n'\n",
            "b'Fra:1 Mem:176.90M (Peak 177.10M) | Time:04:18.52 | Remaining:01:07:16.86 | Mem:40.90M, Peak:40.90M | Scene, View Layer | Rendered 53/900 Tiles, Denoised 21 tiles\\n'\n",
            "b'Fra:1 Mem:176.90M (Peak 177.10M) | Time:04:18.87 | Remaining:01:07:18.49 | Mem:40.90M, Peak:41.04M | Scene, View Layer | Rendered 53/900 Tiles, Denoised 22 tiles\\n'\n",
            "b'Fra:1 Mem:177.46M (Peak 177.66M) | Time:04:19.97 | Remaining:01:07:12.28 | Mem:41.47M, Peak:41.47M | Scene, View Layer | Rendered 54/900 Tiles, Denoised 22 tiles\\n'\n",
            "b'Fra:1 Mem:177.46M (Peak 177.66M) | Time:04:20.32 | Remaining:01:07:14.79 | Mem:41.47M, Peak:41.60M | Scene, View Layer | Rendered 54/900 Tiles, Denoised 23 tiles\\n'\n",
            "b'Fra:1 Mem:178.02M (Peak 178.22M) | Time:04:28.04 | Remaining:01:07:06.81 | Mem:42.03M, Peak:42.03M | Scene, View Layer | Rendered 55/900 Tiles, Denoised 23 tiles\\n'\n",
            "b'Fra:1 Mem:178.02M (Peak 178.22M) | Time:04:28.44 | Remaining:01:07:08.62 | Mem:42.03M, Peak:42.16M | Scene, View Layer | Rendered 55/900 Tiles, Denoised 24 tiles\\n'\n",
            "b'Fra:1 Mem:178.58M (Peak 178.79M) | Time:04:29.50 | Remaining:01:07:01.50 | Mem:42.59M, Peak:42.59M | Scene, View Layer | Rendered 56/900 Tiles, Denoised 24 tiles\\n'\n",
            "b'Fra:1 Mem:178.58M (Peak 178.79M) | Time:04:29.88 | Remaining:01:07:04.50 | Mem:42.59M, Peak:42.72M | Scene, View Layer | Rendered 56/900 Tiles, Denoised 25 tiles\\n'\n",
            "b'Fra:1 Mem:179.15M (Peak 179.35M) | Time:04:37.59 | Remaining:01:06:55.06 | Mem:43.15M, Peak:43.15M | Scene, View Layer | Rendered 57/900 Tiles, Denoised 25 tiles\\n'\n",
            "b'Fra:1 Mem:179.15M (Peak 179.35M) | Time:04:37.95 | Remaining:01:06:56.42 | Mem:43.15M, Peak:43.29M | Scene, View Layer | Rendered 57/900 Tiles, Denoised 26 tiles\\n'\n",
            "b'Fra:1 Mem:179.71M (Peak 179.91M) | Time:04:38.91 | Remaining:01:06:49.50 | Mem:43.72M, Peak:43.72M | Scene, View Layer | Rendered 58/900 Tiles, Denoised 26 tiles\\n'\n",
            "b'Fra:1 Mem:179.71M (Peak 179.91M) | Time:04:39.26 | Remaining:01:06:51.62 | Mem:43.72M, Peak:43.85M | Scene, View Layer | Rendered 58/900 Tiles, Denoised 27 tiles\\n'\n",
            "b'Fra:1 Mem:180.22M (Peak 180.42M) | Time:04:47.01 | Remaining:01:06:39.83 | Mem:44.23M, Peak:44.23M | Scene, View Layer | Rendered 59/900 Tiles, Denoised 27 tiles\\n'\n",
            "b'Fra:1 Mem:180.22M (Peak 180.42M) | Time:04:47.37 | Remaining:01:06:38.40 | Mem:44.23M, Peak:44.36M | Scene, View Layer | Rendered 59/900 Tiles, Denoised 28 tiles\\n'\n",
            "b'Fra:1 Mem:180.78M (Peak 180.97M) | Time:04:47.44 | Remaining:01:06:37.37 | Mem:44.79M, Peak:44.79M | Scene, View Layer | Rendered 60/900 Tiles, Denoised 28 tiles\\n'\n",
            "b'Fra:1 Mem:180.78M (Peak 180.98M) | Time:04:47.82 | Remaining:01:06:39.95 | Mem:44.79M, Peak:44.92M | Scene, View Layer | Rendered 60/900 Tiles, Denoised 29 tiles\\n'\n",
            "b'Fra:1 Mem:180.77M (Peak 180.98M) | Time:04:48.13 | Remaining:01:06:41.89 | Mem:44.78M, Peak:44.92M | Scene, View Layer | Rendered 60/900 Tiles, Denoised 30 tiles\\n'\n",
            "b'Fra:1 Mem:181.33M (Peak 181.54M) | Time:04:56.69 | Remaining:01:06:31.97 | Mem:45.34M, Peak:45.34M | Scene, View Layer | Rendered 61/900 Tiles, Denoised 30 tiles\\n'\n",
            "b'Fra:1 Mem:181.90M (Peak 182.10M) | Time:04:57.21 | Remaining:01:06:27.08 | Mem:45.90M, Peak:45.90M | Scene, View Layer | Rendered 62/900 Tiles, Denoised 30 tiles\\n'\n",
            "b'Fra:1 Mem:181.91M (Peak 182.11M) | Time:04:57.54 | Remaining:01:06:29.23 | Mem:45.91M, Peak:46.05M | Scene, View Layer | Rendered 62/900 Tiles, Denoised 31 tiles\\n'\n",
            "b'Fra:1 Mem:182.47M (Peak 182.67M) | Time:05:06.01 | Remaining:01:06:22.78 | Mem:46.48M, Peak:46.48M | Scene, View Layer | Rendered 63/900 Tiles, Denoised 31 tiles\\n'\n",
            "b'Fra:1 Mem:181.95M (Peak 182.67M) | Time:05:06.37 | Remaining:01:06:23.71 | Mem:45.95M, Peak:46.66M | Scene, View Layer | Rendered 63/900 Tiles, Denoised 32 tiles\\n'\n",
            "b'Fra:1 Mem:182.51M (Peak 182.71M) | Time:05:07.02 | Remaining:01:06:19.23 | Mem:46.52M, Peak:46.66M | Scene, View Layer | Rendered 64/900 Tiles, Denoised 32 tiles\\n'\n",
            "b'Fra:1 Mem:181.99M (Peak 182.71M) | Time:05:07.39 | Remaining:01:06:21.51 | Mem:46.00M, Peak:46.71M | Scene, View Layer | Rendered 64/900 Tiles, Denoised 33 tiles\\n'\n",
            "b'Fra:1 Mem:182.55M (Peak 182.76M) | Time:05:15.80 | Remaining:01:06:16.08 | Mem:46.56M, Peak:46.71M | Scene, View Layer | Rendered 65/900 Tiles, Denoised 33 tiles\\n'\n",
            "b'Fra:1 Mem:181.99M (Peak 182.76M) | Time:05:16.15 | Remaining:01:06:17.31 | Mem:46.00M, Peak:46.71M | Scene, View Layer | Rendered 65/900 Tiles, Denoised 34 tiles\\n'\n",
            "b'Fra:1 Mem:182.55M (Peak 182.76M) | Time:05:17.03 | Remaining:01:06:13.29 | Mem:46.56M, Peak:46.71M | Scene, View Layer | Rendered 66/900 Tiles, Denoised 34 tiles\\n'\n",
            "b'Fra:1 Mem:181.99M (Peak 182.76M) | Time:05:17.38 | Remaining:01:06:15.39 | Mem:46.00M, Peak:46.71M | Scene, View Layer | Rendered 66/900 Tiles, Denoised 35 tiles\\n'\n",
            "b'Fra:1 Mem:182.55M (Peak 182.76M) | Time:05:28.80 | Remaining:01:06:48.44 | Mem:46.56M, Peak:46.71M | Scene, View Layer | Rendered 67/900 Tiles, Denoised 35 tiles\\n'\n",
            "b'Fra:1 Mem:181.99M (Peak 182.76M) | Time:05:29.24 | Remaining:01:06:51.34 | Mem:46.00M, Peak:46.71M | Scene, View Layer | Rendered 67/900 Tiles, Denoised 36 tiles\\n'\n",
            "b'Fra:1 Mem:182.55M (Peak 182.76M) | Time:05:30.29 | Remaining:01:06:46.80 | Mem:46.56M, Peak:46.71M | Scene, View Layer | Rendered 68/900 Tiles, Denoised 36 tiles\\n'\n",
            "b'Fra:1 Mem:181.99M (Peak 182.76M) | Time:05:30.64 | Remaining:01:06:48.85 | Mem:46.00M, Peak:46.71M | Scene, View Layer | Rendered 68/900 Tiles, Denoised 37 tiles\\n'\n",
            "b'Fra:1 Mem:182.55M (Peak 182.76M) | Time:05:38.85 | Remaining:01:06:43.99 | Mem:46.56M, Peak:46.71M | Scene, View Layer | Rendered 69/900 Tiles, Denoised 37 tiles\\n'\n",
            "b'Fra:1 Mem:181.99M (Peak 182.76M) | Time:05:39.23 | Remaining:01:06:45.41 | Mem:46.00M, Peak:46.71M | Scene, View Layer | Rendered 69/900 Tiles, Denoised 38 tiles\\n'\n",
            "b'Fra:1 Mem:182.55M (Peak 182.76M) | Time:05:40.32 | Remaining:01:06:40.54 | Mem:46.56M, Peak:46.71M | Scene, View Layer | Rendered 70/900 Tiles, Denoised 38 tiles\\n'\n",
            "b'Fra:1 Mem:181.99M (Peak 182.76M) | Time:05:40.69 | Remaining:01:06:42.42 | Mem:46.00M, Peak:46.71M | Scene, View Layer | Rendered 70/900 Tiles, Denoised 39 tiles\\n'\n",
            "b'Fra:1 Mem:182.55M (Peak 182.76M) | Time:05:48.92 | Remaining:01:06:38.10 | Mem:46.56M, Peak:46.71M | Scene, View Layer | Rendered 71/900 Tiles, Denoised 39 tiles\\n'\n",
            "b'Fra:1 Mem:181.99M (Peak 182.76M) | Time:05:49.29 | Remaining:01:06:39.45 | Mem:46.00M, Peak:46.71M | Scene, View Layer | Rendered 71/900 Tiles, Denoised 40 tiles\\n'\n",
            "b'Fra:1 Mem:182.55M (Peak 182.76M) | Time:05:50.53 | Remaining:01:06:35.45 | Mem:46.56M, Peak:46.71M | Scene, View Layer | Rendered 72/900 Tiles, Denoised 40 tiles\\n'\n",
            "b'Fra:1 Mem:181.99M (Peak 182.76M) | Time:05:50.92 | Remaining:01:06:37.63 | Mem:46.00M, Peak:46.71M | Scene, View Layer | Rendered 72/900 Tiles, Denoised 41 tiles\\n'\n",
            "b'Fra:1 Mem:182.55M (Peak 182.76M) | Time:05:59.05 | Remaining:01:06:33.12 | Mem:46.56M, Peak:46.71M | Scene, View Layer | Rendered 73/900 Tiles, Denoised 41 tiles\\n'\n",
            "b'Fra:1 Mem:181.99M (Peak 182.76M) | Time:05:59.43 | Remaining:01:06:34.45 | Mem:46.00M, Peak:46.71M | Scene, View Layer | Rendered 73/900 Tiles, Denoised 42 tiles\\n'\n",
            "b'Fra:1 Mem:182.55M (Peak 182.76M) | Time:06:00.66 | Remaining:01:06:30.11 | Mem:46.56M, Peak:46.71M | Scene, View Layer | Rendered 74/900 Tiles, Denoised 42 tiles\\n'\n",
            "b'Fra:1 Mem:181.99M (Peak 182.76M) | Time:06:01.04 | Remaining:01:06:32.09 | Mem:46.00M, Peak:46.71M | Scene, View Layer | Rendered 74/900 Tiles, Denoised 43 tiles\\n'\n",
            "b'Fra:1 Mem:182.55M (Peak 182.76M) | Time:06:09.42 | Remaining:01:06:29.51 | Mem:46.56M, Peak:46.71M | Scene, View Layer | Rendered 75/900 Tiles, Denoised 43 tiles\\n'\n",
            "b'Fra:1 Mem:181.99M (Peak 182.76M) | Time:06:09.80 | Remaining:01:06:30.73 | Mem:46.00M, Peak:46.71M | Scene, View Layer | Rendered 75/900 Tiles, Denoised 44 tiles\\n'\n",
            "b'Fra:1 Mem:182.55M (Peak 182.76M) | Time:06:10.93 | Remaining:01:06:26.47 | Mem:46.56M, Peak:46.71M | Scene, View Layer | Rendered 76/900 Tiles, Denoised 44 tiles\\n'\n",
            "b'Fra:1 Mem:181.99M (Peak 182.76M) | Time:06:11.30 | Remaining:01:06:28.32 | Mem:46.00M, Peak:46.71M | Scene, View Layer | Rendered 76/900 Tiles, Denoised 45 tiles\\n'\n",
            "b'Fra:1 Mem:182.55M (Peak 182.76M) | Time:06:19.75 | Remaining:01:06:24.88 | Mem:46.56M, Peak:46.71M | Scene, View Layer | Rendered 77/900 Tiles, Denoised 45 tiles\\n'\n",
            "b'Fra:1 Mem:181.99M (Peak 182.76M) | Time:06:20.13 | Remaining:01:06:25.99 | Mem:46.00M, Peak:46.71M | Scene, View Layer | Rendered 77/900 Tiles, Denoised 46 tiles\\n'\n",
            "b'Fra:1 Mem:182.55M (Peak 182.76M) | Time:06:21.15 | Remaining:01:06:21.80 | Mem:46.56M, Peak:46.71M | Scene, View Layer | Rendered 78/900 Tiles, Denoised 46 tiles\\n'\n",
            "b'Fra:1 Mem:181.99M (Peak 182.76M) | Time:06:21.52 | Remaining:01:06:23.54 | Mem:46.00M, Peak:46.71M | Scene, View Layer | Rendered 78/900 Tiles, Denoised 47 tiles\\n'\n"
          ]
        }
      ]
    }
  ]
}